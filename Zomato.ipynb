{
 "cells": [
  {
   "cell_type": "markdown",
   "id": "b9b90e4d",
   "metadata": {},
   "source": [
    "# Is 1% interest every trade a possibility?"
   ]
  },
  {
   "cell_type": "markdown",
   "id": "970321d1c848354f",
   "metadata": {},
   "source": [
    "This analysis aims to explore the feasibility of daily stock traders consistently achieving a 1% profit on each trade for a year. We will focus on Zomato stock and calculate the effective annual interest rate achievable, taking into account both buyers and sellers. Our analysis will be continuously updated and refined based on the results obtained for each group. <br>\n",
    "### The Reason for me to select Zomato for Analysis is: <br>\n",
    "* **High liquidity:** Zomato is one of the most liquid stocks on the Indian stock exchange, making it suitable for daily trading due to its tight bid-ask spreads and high trading volume.<br>\n",
    "* **Volatility:** The stock has experienced significant volatility in recent years, offering potential opportunities for both buyers and sellers to capitalize on price movements.<br>\n",
    "* **Recent profitability:** After years of losses, Zomato reported its first quarterly profit in Q3 FY24, potentially attracting more investors and increasing trading activity.<br>\n",
    "* **Growth potential:** The online food delivery market in India is expected to continue growing rapidly, potentially benefiting Zomato as a major player in the space.<br>\n",
    "* **Availability of data:** Zomato's stock price and trading data are readily available, making it easier to conduct an in-depth analysis.<br>\n",
    "\n",
    "### Assumptions for Zomato Stock Trading Analysis: <br>\n",
    "**1. Data Period:** January 1, 2023, to December 31, 2023 (one year)<br>\n",
    "\n",
    "**2. Data Source:** Official data from NSE website<br>\n",
    "\n",
    "**3. Analysis Variables:** Date, Open Price, Close Price, High Price, Low Price<br>\n",
    "\n",
    "**4. Buyer/Seller Day Definition:**<br>\n",
    "* **Buyer Day:** Open Price > Closing Price (significant buying pressure)<br>\n",
    "* **Seller Day:** Open Price < Closing Price (significant selling pressure)<br>\n",
    "\n",
    "**5. Price Movement Assumptions:**<br>\n",
    "* **Buyer Call:** Price assumed to move from Day's Low to Day's High assuming that it is a Buyer Day<br>\n",
    "* **Seller Call:** Price assumed to move from Day's High to Day's Low assuming that it is a Seller Day<br>\n",
    "\n",
    "**6.Interest Rate Calculation:**<br>\n",
    "* Based on daily price changes<br>\n",
    "* Assumed to be compound interest<br>\n",
    "* Effective annual interest rate will be calculated for the entire period<br>"
   ]
  },
  {
   "cell_type": "code",
   "execution_count": 1,
   "id": "initial_id",
   "metadata": {
    "ExecuteTime": {
     "end_time": "2024-02-13T06:48:16.405259600Z",
     "start_time": "2024-02-13T06:48:14.826245700Z"
    }
   },
   "outputs": [],
   "source": [
    "import pandas as pd\n",
    "import numpy as np\n",
    "import sympy as sp\n",
    "import datetime as dt\n",
    "import matplotlib.pyplot as plt"
   ]
  },
  {
   "cell_type": "code",
   "execution_count": 2,
   "id": "d36d33194180bd60",
   "metadata": {
    "ExecuteTime": {
     "end_time": "2024-02-13T06:48:16.451453300Z",
     "start_time": "2024-02-13T06:48:16.408268900Z"
    }
   },
   "outputs": [
    {
     "data": {
      "text/html": [
       "<div>\n",
       "<style scoped>\n",
       "    .dataframe tbody tr th:only-of-type {\n",
       "        vertical-align: middle;\n",
       "    }\n",
       "\n",
       "    .dataframe tbody tr th {\n",
       "        vertical-align: top;\n",
       "    }\n",
       "\n",
       "    .dataframe thead th {\n",
       "        text-align: right;\n",
       "    }\n",
       "</style>\n",
       "<table border=\"1\" class=\"dataframe\">\n",
       "  <thead>\n",
       "    <tr style=\"text-align: right;\">\n",
       "      <th></th>\n",
       "      <th>Date</th>\n",
       "      <th>series</th>\n",
       "      <th>OPEN</th>\n",
       "      <th>HIGH</th>\n",
       "      <th>LOW</th>\n",
       "      <th>PREV. CLOSE</th>\n",
       "      <th>ltp</th>\n",
       "      <th>close</th>\n",
       "      <th>vwap</th>\n",
       "      <th>52W H</th>\n",
       "      <th>52W L</th>\n",
       "      <th>VOLUME</th>\n",
       "      <th>VALUE</th>\n",
       "      <th>No of trades</th>\n",
       "    </tr>\n",
       "  </thead>\n",
       "  <tbody>\n",
       "    <tr>\n",
       "      <th>0</th>\n",
       "      <td>29-Dec-2023</td>\n",
       "      <td>EQ</td>\n",
       "      <td>124.00</td>\n",
       "      <td>125.55</td>\n",
       "      <td>123.25</td>\n",
       "      <td>123.20</td>\n",
       "      <td>123.70</td>\n",
       "      <td>123.70</td>\n",
       "      <td>124.13</td>\n",
       "      <td>131.75</td>\n",
       "      <td>44.35</td>\n",
       "      <td>2,75,12,604</td>\n",
       "      <td>3,41,51,94,738.70</td>\n",
       "      <td>1,33,273</td>\n",
       "    </tr>\n",
       "    <tr>\n",
       "      <th>1</th>\n",
       "      <td>28-Dec-2023</td>\n",
       "      <td>EQ</td>\n",
       "      <td>124.90</td>\n",
       "      <td>125.50</td>\n",
       "      <td>120.60</td>\n",
       "      <td>127.05</td>\n",
       "      <td>123.20</td>\n",
       "      <td>123.20</td>\n",
       "      <td>123.19</td>\n",
       "      <td>131.75</td>\n",
       "      <td>44.35</td>\n",
       "      <td>7,28,65,479</td>\n",
       "      <td>8,97,61,00,147.65</td>\n",
       "      <td>2,10,148</td>\n",
       "    </tr>\n",
       "    <tr>\n",
       "      <th>2</th>\n",
       "      <td>27-Dec-2023</td>\n",
       "      <td>EQ</td>\n",
       "      <td>125.70</td>\n",
       "      <td>127.60</td>\n",
       "      <td>125.55</td>\n",
       "      <td>125.00</td>\n",
       "      <td>126.85</td>\n",
       "      <td>127.05</td>\n",
       "      <td>126.64</td>\n",
       "      <td>131.75</td>\n",
       "      <td>44.35</td>\n",
       "      <td>2,17,57,560</td>\n",
       "      <td>2,75,54,01,886.25</td>\n",
       "      <td>77,925</td>\n",
       "    </tr>\n",
       "    <tr>\n",
       "      <th>3</th>\n",
       "      <td>26-Dec-2023</td>\n",
       "      <td>EQ</td>\n",
       "      <td>128.50</td>\n",
       "      <td>128.70</td>\n",
       "      <td>124.30</td>\n",
       "      <td>128.50</td>\n",
       "      <td>124.50</td>\n",
       "      <td>125.00</td>\n",
       "      <td>126.30</td>\n",
       "      <td>131.75</td>\n",
       "      <td>44.35</td>\n",
       "      <td>2,54,99,782</td>\n",
       "      <td>3,22,06,60,732.75</td>\n",
       "      <td>1,11,094</td>\n",
       "    </tr>\n",
       "    <tr>\n",
       "      <th>4</th>\n",
       "      <td>22-Dec-2023</td>\n",
       "      <td>EQ</td>\n",
       "      <td>130.55</td>\n",
       "      <td>131.00</td>\n",
       "      <td>125.30</td>\n",
       "      <td>127.35</td>\n",
       "      <td>127.90</td>\n",
       "      <td>128.50</td>\n",
       "      <td>128.74</td>\n",
       "      <td>131.75</td>\n",
       "      <td>44.35</td>\n",
       "      <td>6,31,13,800</td>\n",
       "      <td>8,12,51,01,537.65</td>\n",
       "      <td>1,87,775</td>\n",
       "    </tr>\n",
       "  </tbody>\n",
       "</table>\n",
       "</div>"
      ],
      "text/plain": [
       "         Date  series    OPEN    HIGH     LOW   PREV. CLOSE     ltp   close   \\\n",
       "0  29-Dec-2023      EQ  124.00  125.55  123.25        123.20  123.70  123.70   \n",
       "1  28-Dec-2023      EQ  124.90  125.50  120.60        127.05  123.20  123.20   \n",
       "2  27-Dec-2023      EQ  125.70  127.60  125.55        125.00  126.85  127.05   \n",
       "3  26-Dec-2023      EQ  128.50  128.70  124.30        128.50  124.50  125.00   \n",
       "4  22-Dec-2023      EQ  130.55  131.00  125.30        127.35  127.90  128.50   \n",
       "\n",
       "    vwap   52W H   52W L       VOLUME              VALUE  No of trades   \n",
       "0  124.13  131.75   44.35  2,75,12,604  3,41,51,94,738.70      1,33,273  \n",
       "1  123.19  131.75   44.35  7,28,65,479  8,97,61,00,147.65      2,10,148  \n",
       "2  126.64  131.75   44.35  2,17,57,560  2,75,54,01,886.25        77,925  \n",
       "3  126.30  131.75   44.35  2,54,99,782  3,22,06,60,732.75      1,11,094  \n",
       "4  128.74  131.75   44.35  6,31,13,800  8,12,51,01,537.65      1,87,775  "
      ]
     },
     "execution_count": 2,
     "metadata": {},
     "output_type": "execute_result"
    }
   ],
   "source": [
    "Zomato = pd.read_csv(\"Zomato.csv\")\n",
    "Zomato.head()"
   ]
  },
  {
   "cell_type": "code",
   "execution_count": 3,
   "id": "1d9b1d5906d181e8",
   "metadata": {
    "ExecuteTime": {
     "end_time": "2024-02-13T06:48:16.488316200Z",
     "start_time": "2024-02-13T06:48:16.447449200Z"
    }
   },
   "outputs": [
    {
     "data": {
      "text/html": [
       "<div>\n",
       "<style scoped>\n",
       "    .dataframe tbody tr th:only-of-type {\n",
       "        vertical-align: middle;\n",
       "    }\n",
       "\n",
       "    .dataframe tbody tr th {\n",
       "        vertical-align: top;\n",
       "    }\n",
       "\n",
       "    .dataframe thead th {\n",
       "        text-align: right;\n",
       "    }\n",
       "</style>\n",
       "<table border=\"1\" class=\"dataframe\">\n",
       "  <thead>\n",
       "    <tr style=\"text-align: right;\">\n",
       "      <th></th>\n",
       "      <th>Date</th>\n",
       "      <th>OPEN</th>\n",
       "      <th>HIGH</th>\n",
       "      <th>LOW</th>\n",
       "      <th>close</th>\n",
       "    </tr>\n",
       "  </thead>\n",
       "  <tbody>\n",
       "    <tr>\n",
       "      <th>245</th>\n",
       "      <td>2023-01-02</td>\n",
       "      <td>60.65</td>\n",
       "      <td>60.70</td>\n",
       "      <td>59.80</td>\n",
       "      <td>60.30</td>\n",
       "    </tr>\n",
       "    <tr>\n",
       "      <th>244</th>\n",
       "      <td>2023-01-03</td>\n",
       "      <td>58.85</td>\n",
       "      <td>59.55</td>\n",
       "      <td>57.30</td>\n",
       "      <td>58.95</td>\n",
       "    </tr>\n",
       "    <tr>\n",
       "      <th>243</th>\n",
       "      <td>2023-01-04</td>\n",
       "      <td>58.40</td>\n",
       "      <td>58.70</td>\n",
       "      <td>56.00</td>\n",
       "      <td>56.35</td>\n",
       "    </tr>\n",
       "    <tr>\n",
       "      <th>242</th>\n",
       "      <td>2023-01-05</td>\n",
       "      <td>56.95</td>\n",
       "      <td>57.10</td>\n",
       "      <td>55.60</td>\n",
       "      <td>56.20</td>\n",
       "    </tr>\n",
       "    <tr>\n",
       "      <th>241</th>\n",
       "      <td>2023-01-06</td>\n",
       "      <td>56.20</td>\n",
       "      <td>56.40</td>\n",
       "      <td>54.95</td>\n",
       "      <td>55.25</td>\n",
       "    </tr>\n",
       "  </tbody>\n",
       "</table>\n",
       "</div>"
      ],
      "text/plain": [
       "         Date   OPEN   HIGH    LOW   close \n",
       "245 2023-01-02  60.65  60.70  59.80   60.30\n",
       "244 2023-01-03  58.85  59.55  57.30   58.95\n",
       "243 2023-01-04  58.40  58.70  56.00   56.35\n",
       "242 2023-01-05  56.95  57.10  55.60   56.20\n",
       "241 2023-01-06  56.20  56.40  54.95   55.25"
      ]
     },
     "execution_count": 3,
     "metadata": {},
     "output_type": "execute_result"
    }
   ],
   "source": [
    "Data = Zomato.loc[:,['Date ','OPEN ','HIGH ','LOW ','close ']]\n",
    "Data['Date '] = pd.to_datetime(Data['Date '])\n",
    "Data = Data.sort_values(by='Date ')\n",
    "Data.head()"
   ]
  },
  {
   "cell_type": "code",
   "execution_count": 4,
   "id": "c0c6a6ca440b669e",
   "metadata": {
    "ExecuteTime": {
     "end_time": "2024-02-13T06:48:16.731164Z",
     "start_time": "2024-02-13T06:48:16.473313900Z"
    }
   },
   "outputs": [
    {
     "data": {
      "image/png": "[encoded data removed]",
      "text/plain": [
       "<Figure size 640x480 with 1 Axes>"
      ]
     },
     "metadata": {},
     "output_type": "display_data"
    }
   ],
   "source": [
    "Days = range(0,246)\n",
    "slope, intercept = np.polyfit(Days,Data['close '],1)\n",
    "regression_line = intercept + (Days * slope)\n",
    "plt.plot(Data['Date '],Data['close '],color = 'red',label = 'Zomato')\n",
    "plt.plot(Data['Date '],regression_line,color = 'green',label = 'Regression Line')\n",
    "plt.xlabel('Date')\n",
    "plt.ylabel('Closing Price')\n",
    "plt.title('Zomato Performance Chart')\n",
    "plt.legend()\n",
    "plt.show()"
   ]
  },
  {
   "cell_type": "markdown",
   "id": "944496f79b8e4f5f",
   "metadata": {},
   "source": [
    "### Observation:\n",
    "* **Time series data:** The data represents a sequence of values over time, making it time series data. <br>\n",
    "* **Upward trend:** The overall trend in the graph appears to be upward, suggesting a general price increase over the observed period.<br>\n",
    "* **Non-stationary:** As the data covers less than one fiscal year, it is likely non-stationary, meaning its statistical properties (e.g., mean, variance) might change over time.<br>\n",
    "* **Cycles present:** The graph exhibits cyclical patterns, suggesting recurring fluctuations in price movements.<br>"
   ]
  },
  {
   "cell_type": "code",
   "execution_count": 5,
   "id": "332bb0a04d12027d",
   "metadata": {
    "ExecuteTime": {
     "end_time": "2024-02-13T06:48:16.746467300Z",
     "start_time": "2024-02-13T06:48:16.735166800Z"
    }
   },
   "outputs": [
    {
     "data": {
      "text/html": [
       "<div>\n",
       "<style scoped>\n",
       "    .dataframe tbody tr th:only-of-type {\n",
       "        vertical-align: middle;\n",
       "    }\n",
       "\n",
       "    .dataframe tbody tr th {\n",
       "        vertical-align: top;\n",
       "    }\n",
       "\n",
       "    .dataframe thead th {\n",
       "        text-align: right;\n",
       "    }\n",
       "</style>\n",
       "<table border=\"1\" class=\"dataframe\">\n",
       "  <thead>\n",
       "    <tr style=\"text-align: right;\">\n",
       "      <th></th>\n",
       "      <th>Date</th>\n",
       "      <th>OPEN</th>\n",
       "      <th>HIGH</th>\n",
       "      <th>LOW</th>\n",
       "      <th>close</th>\n",
       "      <th>Day Percentage Change</th>\n",
       "    </tr>\n",
       "  </thead>\n",
       "  <tbody>\n",
       "    <tr>\n",
       "      <th>245</th>\n",
       "      <td>2023-01-02</td>\n",
       "      <td>60.65</td>\n",
       "      <td>60.70</td>\n",
       "      <td>59.80</td>\n",
       "      <td>60.30</td>\n",
       "      <td>-0.577082</td>\n",
       "    </tr>\n",
       "    <tr>\n",
       "      <th>244</th>\n",
       "      <td>2023-01-03</td>\n",
       "      <td>58.85</td>\n",
       "      <td>59.55</td>\n",
       "      <td>57.30</td>\n",
       "      <td>58.95</td>\n",
       "      <td>0.169924</td>\n",
       "    </tr>\n",
       "    <tr>\n",
       "      <th>243</th>\n",
       "      <td>2023-01-04</td>\n",
       "      <td>58.40</td>\n",
       "      <td>58.70</td>\n",
       "      <td>56.00</td>\n",
       "      <td>56.35</td>\n",
       "      <td>-3.510274</td>\n",
       "    </tr>\n",
       "    <tr>\n",
       "      <th>242</th>\n",
       "      <td>2023-01-05</td>\n",
       "      <td>56.95</td>\n",
       "      <td>57.10</td>\n",
       "      <td>55.60</td>\n",
       "      <td>56.20</td>\n",
       "      <td>-1.316945</td>\n",
       "    </tr>\n",
       "    <tr>\n",
       "      <th>241</th>\n",
       "      <td>2023-01-06</td>\n",
       "      <td>56.20</td>\n",
       "      <td>56.40</td>\n",
       "      <td>54.95</td>\n",
       "      <td>55.25</td>\n",
       "      <td>-1.690391</td>\n",
       "    </tr>\n",
       "  </tbody>\n",
       "</table>\n",
       "</div>"
      ],
      "text/plain": [
       "         Date   OPEN   HIGH    LOW   close   Day Percentage Change\n",
       "245 2023-01-02  60.65  60.70  59.80   60.30              -0.577082\n",
       "244 2023-01-03  58.85  59.55  57.30   58.95               0.169924\n",
       "243 2023-01-04  58.40  58.70  56.00   56.35              -3.510274\n",
       "242 2023-01-05  56.95  57.10  55.60   56.20              -1.316945\n",
       "241 2023-01-06  56.20  56.40  54.95   55.25              -1.690391"
      ]
     },
     "execution_count": 5,
     "metadata": {},
     "output_type": "execute_result"
    }
   ],
   "source": [
    "Day_Percentage_Change = ((Data['close '] - Data['OPEN '])/Data['OPEN '])*100\n",
    "Data['Day Percentage Change'] = Day_Percentage_Change\n",
    "Data.head()"
   ]
  },
  {
   "cell_type": "code",
   "execution_count": 6,
   "id": "149aea670addc5d5",
   "metadata": {
    "ExecuteTime": {
     "end_time": "2024-02-13T06:48:16.843932700Z",
     "start_time": "2024-02-13T06:48:16.754463200Z"
    }
   },
   "outputs": [
    {
     "data": {
      "text/html": [
       "<div>\n",
       "<style scoped>\n",
       "    .dataframe tbody tr th:only-of-type {\n",
       "        vertical-align: middle;\n",
       "    }\n",
       "\n",
       "    .dataframe tbody tr th {\n",
       "        vertical-align: top;\n",
       "    }\n",
       "\n",
       "    .dataframe thead th {\n",
       "        text-align: right;\n",
       "    }\n",
       "</style>\n",
       "<table border=\"1\" class=\"dataframe\">\n",
       "  <thead>\n",
       "    <tr style=\"text-align: right;\">\n",
       "      <th></th>\n",
       "      <th>Date</th>\n",
       "      <th>OPEN</th>\n",
       "      <th>HIGH</th>\n",
       "      <th>LOW</th>\n",
       "      <th>close</th>\n",
       "      <th>Day Percentage Change</th>\n",
       "      <th>Call</th>\n",
       "      <th>Change</th>\n",
       "    </tr>\n",
       "  </thead>\n",
       "  <tbody>\n",
       "    <tr>\n",
       "      <th>245</th>\n",
       "      <td>2023-01-02</td>\n",
       "      <td>60.65</td>\n",
       "      <td>60.70</td>\n",
       "      <td>59.80</td>\n",
       "      <td>60.30</td>\n",
       "      <td>-0.577082</td>\n",
       "      <td>Seller</td>\n",
       "      <td>1.482701812191113</td>\n",
       "    </tr>\n",
       "    <tr>\n",
       "      <th>244</th>\n",
       "      <td>2023-01-03</td>\n",
       "      <td>58.85</td>\n",
       "      <td>59.55</td>\n",
       "      <td>57.30</td>\n",
       "      <td>58.95</td>\n",
       "      <td>0.169924</td>\n",
       "      <td>Buyer</td>\n",
       "      <td>3.926701570680628</td>\n",
       "    </tr>\n",
       "    <tr>\n",
       "      <th>243</th>\n",
       "      <td>2023-01-04</td>\n",
       "      <td>58.40</td>\n",
       "      <td>58.70</td>\n",
       "      <td>56.00</td>\n",
       "      <td>56.35</td>\n",
       "      <td>-3.510274</td>\n",
       "      <td>Seller</td>\n",
       "      <td>4.5996592844974495</td>\n",
       "    </tr>\n",
       "    <tr>\n",
       "      <th>242</th>\n",
       "      <td>2023-01-05</td>\n",
       "      <td>56.95</td>\n",
       "      <td>57.10</td>\n",
       "      <td>55.60</td>\n",
       "      <td>56.20</td>\n",
       "      <td>-1.316945</td>\n",
       "      <td>Seller</td>\n",
       "      <td>2.626970227670753</td>\n",
       "    </tr>\n",
       "    <tr>\n",
       "      <th>241</th>\n",
       "      <td>2023-01-06</td>\n",
       "      <td>56.20</td>\n",
       "      <td>56.40</td>\n",
       "      <td>54.95</td>\n",
       "      <td>55.25</td>\n",
       "      <td>-1.690391</td>\n",
       "      <td>Seller</td>\n",
       "      <td>2.5709219858155956</td>\n",
       "    </tr>\n",
       "  </tbody>\n",
       "</table>\n",
       "</div>"
      ],
      "text/plain": [
       "         Date   OPEN   HIGH    LOW   close   Day Percentage Change    Call  \\\n",
       "245 2023-01-02  60.65  60.70  59.80   60.30              -0.577082  Seller   \n",
       "244 2023-01-03  58.85  59.55  57.30   58.95               0.169924   Buyer   \n",
       "243 2023-01-04  58.40  58.70  56.00   56.35              -3.510274  Seller   \n",
       "242 2023-01-05  56.95  57.10  55.60   56.20              -1.316945  Seller   \n",
       "241 2023-01-06  56.20  56.40  54.95   55.25              -1.690391  Seller   \n",
       "\n",
       "                 Change  \n",
       "245   1.482701812191113  \n",
       "244   3.926701570680628  \n",
       "243  4.5996592844974495  \n",
       "242   2.626970227670753  \n",
       "241  2.5709219858155956  "
      ]
     },
     "execution_count": 6,
     "metadata": {},
     "output_type": "execute_result"
    }
   ],
   "source": [
    "Data[\"Call\"] = np.where(Data[\"OPEN \"] <= Data[\"close \"], \"Buyer\", \"Seller\")\n",
    "condition = [Data['Call'] == 'Buyer',Data['Call'] == 'Seller']\n",
    "choice = [((Data['LOW '] - Data['HIGH '])/ Data['LOW '])*-100,((Data['HIGH '] - Data['LOW '])/ Data['HIGH '])*100]\n",
    "Data['Change'] = np.select(condition, choice, default='Other')\n",
    "Data.head()"
   ]
  },
  {
   "cell_type": "code",
   "execution_count": 7,
   "id": "613fd8c8d00cb357",
   "metadata": {
    "ExecuteTime": {
     "end_time": "2024-02-13T06:48:17.007167800Z",
     "start_time": "2024-02-13T06:48:16.786930Z"
    }
   },
   "outputs": [
    {
     "data": {
      "image/png": "[encoded data removed]",
      "text/plain": [
       "<Figure size 640x480 with 1 Axes>"
      ]
     },
     "metadata": {},
     "output_type": "display_data"
    }
   ],
   "source": [
    "Count = Data['Call'].value_counts()\n",
    "plt.pie(Count,colors=('red','green'),labels=('Seller','Buyer'),autopct='%1.5f',startangle=90)   \n",
    "plt.title(\"Split between Buyer and Seller Calls\")\n",
    "plt.legend()\n",
    "plt.show()"
   ]
  },
  {
   "cell_type": "markdown",
   "id": "8d6ebb0417e1dde",
   "metadata": {},
   "source": [
    "### Observation: <br>\n",
    "In 2023, there were a nearly equal number of buying and selling days for Zomato stock, with 47.15% classified as buying days and 52.85% classified as selling days. This suggests a relatively balanced market sentiment over the year, with neither buyers nor sellers consistently dominating the market. Although there were slightly more selling days than buying days, the difference is only 5.7 percentage points. This indicates that the market sentiment for Zomato stock in 2023 was fairly neutral, with with weak bias towards selling over buying pressure."
   ]
  },
  {
   "cell_type": "code",
   "execution_count": 8,
   "id": "31b0ec0ccdee73da",
   "metadata": {
    "ExecuteTime": {
     "end_time": "2024-02-13T06:48:17.008168Z",
     "start_time": "2024-02-13T06:48:16.906942900Z"
    }
   },
   "outputs": [
    {
     "name": "stdout",
     "output_type": "stream",
     "text": [
      "Average Buyer Change: 1.881634656661503 %\n"
     ]
    }
   ],
   "source": [
    "Buyer_data = Data[Data['Call'] == 'Buyer']\n",
    "Buyer_change = Buyer_data['Change'].astype(float)\n",
    "Sum_change = Buyer_change.sum()\n",
    "Buyer_Interest = Sum_change/246\n",
    "print(\"Average Buyer Change:\",Buyer_Interest,\"%\")"
   ]
  },
  {
   "cell_type": "code",
   "execution_count": 9,
   "id": "e06b642f43ea88cc",
   "metadata": {
    "ExecuteTime": {
     "end_time": "2024-02-13T06:48:17.030166400Z",
     "start_time": "2024-02-13T06:48:16.916028700Z"
    }
   },
   "outputs": [
    {
     "name": "stdout",
     "output_type": "stream",
     "text": [
      "Average Seller Change: 1.9124562706884145 %\n"
     ]
    }
   ],
   "source": [
    "Seller_data = Data[Data['Call'] == 'Seller']\n",
    "Seller_change = Seller_data['Change'].astype(float)\n",
    "Sum_Change = Seller_change.sum()\n",
    "Seller_Interest = Sum_Change/246\n",
    "print(\"Average Seller Change:\", Seller_Interest,\"%\")"
   ]
  },
  {
   "cell_type": "markdown",
   "id": "600b13bdb7502505",
   "metadata": {},
   "source": [
    "### Observation:<br>\n",
    "Assuming 100% accurate trader calls and the given average buyer and seller changes (1.8816% and 1.9124%, respectively), achieving a 1% daily return on your investment would have been theoretically possible over the considered period. But, in practical it's not possible for a person to be 100% accurate for all the calls. Hence, we need to have a indepth research for more accurate calls during trading hours.\n"
   ]
  },
  {
   "cell_type": "code",
   "execution_count": 10,
   "id": "b1dd68243de5098e",
   "metadata": {
    "ExecuteTime": {
     "end_time": "2024-02-13T06:48:17.238445100Z",
     "start_time": "2024-02-13T06:48:16.959167800Z"
    }
   },
   "outputs": [
    {
     "data": {
      "image/png": "[encoded data removed]",
      "text/plain": [
       "<Figure size 640x480 with 1 Axes>"
      ]
     },
     "metadata": {},
     "output_type": "display_data"
    }
   ],
   "source": [
    "Investment = 10000\n",
    "Total_Days = 246\n",
    "Buyer_day = round((246*47.2)/100)\n",
    "Seller_day = round((246*52.8)/100)\n",
    "\n",
    "def compound_interest(initial_investment, num_days, interest_rate):\n",
    "    interest_rate = interest_rate / 100\n",
    "    interest = []\n",
    "    investment = initial_investment\n",
    "    for day in range(0,num_days):\n",
    "        interest_earned = investment * interest_rate\n",
    "        interest.append(interest_earned)\n",
    "        investment += interest_earned\n",
    "    return interest\n",
    "\n",
    "B_Earnings = compound_interest(Investment,Buyer_day,Buyer_Interest)\n",
    "S_Earnings = compound_interest(Investment,Seller_day,Seller_Interest)\n",
    "\n",
    "np.arange(0,250)\n",
    "plt.plot(B_Earnings, color = \"Green\",label = \"Buyers's Earning\")\n",
    "plt.plot(S_Earnings,color = \"Red\",label = \"Seller's Earning\")\n",
    "plt.title(\"Compound Interest\")\n",
    "plt.xlabel(\"Days Traded\")\n",
    "plt.ylabel(\"Interest Earned\")\n",
    "plt.legend()\n",
    "plt.show()"
   ]
  },
  {
   "cell_type": "markdown",
   "id": "3ddd4aa5a6f02aa3",
   "metadata": {},
   "source": [
    "### Observation:\n",
    "The line plot demonstrates the compounded growth of an initial investment of ₹10,000 at two changes: 1.8816% and 1.9125%. Both lines exhibit an upward trend, indicating that the traders are able to grow over time due to compounding interest. The line with the seller change of 1.9125% shows a steeper incline compared to the line with buyer chnage of  1.8816% change. This suggests that a slightly higher seller change that could lead to a more significant in the investment's value over time."
   ]
  },
  {
   "cell_type": "code",
   "execution_count": 11,
   "id": "9a239adce5a7d1bd",
   "metadata": {
    "ExecuteTime": {
     "end_time": "2024-02-13T06:48:17.239446800Z",
     "start_time": "2024-02-13T06:48:17.153625800Z"
    }
   },
   "outputs": [
    {
     "name": "stdout",
     "output_type": "stream",
     "text": [
      "The Effective Interest Rate for Seller:  14.780779144748852\n",
      "The Effective Interest Rate for Buyers:  15.24820002397625\n",
      "Expected Interest Rate Overall:  14.993750706308544\n"
     ]
    }
   ],
   "source": [
    "def Effective_Interest_Rate(interest,duration):\n",
    "    EFF_Interest = (1-interest/duration)**(duration-1)\n",
    "    return EFF_Interest*100\n",
    "\n",
    "Expected_Interest = (Buyer_day*Buyer_Interest + Seller_day*Seller_Interest)/Total_Days\n",
    "\n",
    "print(\"The Effective Interest Rate for Seller: \",Effective_Interest_Rate(Seller_Interest,Seller_day))\n",
    "print(\"The Effective Interest Rate for Buyers: \",Effective_Interest_Rate(Buyer_Interest,Buyer_day))\n",
    "print(\"Expected Interest Rate Overall: \",Effective_Interest_Rate(Expected_Interest,Total_Days))"
   ]
  },
  {
   "cell_type": "markdown",
   "id": "b2cf96bd90073d0c",
   "metadata": {},
   "source": [
    "### Observation: <br>\n",
    "The analysis reveals that sellers earned a slightly lower effective interest rate of 14.78% compared to buyers who achieved a 15.25% effective interest rate over the considered period. This suggests that, on average, buyers slightly outperformed sellers in terms of daily returns."
   ]
  },
  {
   "cell_type": "code",
   "execution_count": 12,
   "id": "386fc1cc2f45b37e",
   "metadata": {
    "ExecuteTime": {
     "end_time": "2024-02-13T07:04:13.223365100Z",
     "start_time": "2024-02-13T07:04:13.217132300Z"
    }
   },
   "outputs": [
    {
     "name": "stdout",
     "output_type": "stream",
     "text": [
      "If the amount had been invested order for one year was placed on 2nd Jan 2023 @ 60.65 per unit then sold on 29th Dec 2023 @123.7 per unit then the return would be  103.95713107996703  %\n",
      "An investment of ₹10,000 would have grown to ₹ 20395.7131079967\n"
     ]
    }
   ],
   "source": [
    "Investment_return = ((123.7 - 60.65)/60.65)*100\n",
    "print(\"If the amount had been invested order for one year was placed on 2nd Jan 2023 @ 60.65 per unit then sold on 29th Dec 2023 @123.7 per unit then the return would be \",Investment_return,\" %\")\n",
    "print(\"An investment of ₹10,000 would have grown to ₹\",10000+10000*(103.95713107996703/100))"
   ]
  },
  {
   "cell_type": "markdown",
   "id": "a2a5d6276097d920",
   "metadata": {},
   "source": [
    "## Conclusion:<br>\n",
    "Achieving a 1% daily return consistently is highly unlikely, especially in traditional investment strategies. The key takeaway is that the potential for higher returns often comes with increased risk. In-depth analysis and sound risk management are crucial for any trading strategy, regardless of the targeted return. Aiming for consistent daily returns can lead to excessive risk-taking and emotional trading decisions. It's important to focus on developing a sound trading process based on research, risk management, and discipline, and letting the results follow. The information presented should not be considered financial advice, and it's essential to conduct your own research and due diligence before making any investment decisions."
   ]
  }
 ],
 "metadata": {
  "kernelspec": {
   "display_name": "Python 3 (ipykernel)",
   "language": "python",
   "name": "python3"
  },
  "language_info": {
   "codemirror_mode": {
    "name": "ipython",
    "version": 3
   },
   "file_extension": ".py",
   "mimetype": "text/x-python",
   "name": "python",
   "nbconvert_exporter": "python",
   "pygments_lexer": "ipython3",
   "version": "3.11.5"
  }
 },
 "nbformat": 4,
 "nbformat_minor": 5
}
